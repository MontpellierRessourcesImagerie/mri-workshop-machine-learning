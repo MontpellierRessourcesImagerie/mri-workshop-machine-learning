{
 "cells": [
  {
   "cell_type": "code",
   "execution_count": 1,
   "metadata": {},
   "outputs": [
    {
     "name": "stderr",
     "output_type": "stream",
     "text": [
      "Using TensorFlow backend.\n"
     ]
    }
   ],
   "source": [
    "import os\n",
    "from keras.preprocessing.image import ImageDataGenerator\n",
    "from keras import layers\n",
    "from keras import models\n",
    "from keras import optimizers\n",
    "import matplotlib.pyplot as plt"
   ]
  },
  {
   "cell_type": "code",
   "execution_count": 2,
   "metadata": {},
   "outputs": [],
   "source": [
    "# Define the folder where the RBC database is going to be saved\n",
    "# -------------------------------------------------------------\n",
    "\n",
    "base_dir = './RBC_database'\n",
    "\n",
    "# Create a folder for the training, validation and testing data. \n",
    "# For each of them, two folders are created, one for the good RBC\n",
    "# images, and the other for the bad ones.\n",
    "# --------------------------------------\n",
    "\n",
    "train_dir = os.path.join(base_dir, 'train')\n",
    "validation_dir = os.path.join(base_dir, 'validation')\n",
    "test_dir = os.path.join(base_dir, 'test')\n",
    "\n",
    "train_goodRBC_dir = os.path.join(train_dir,'goodRBC')\n",
    "train_badRBC_dir = os.path.join(train_dir,'badRBC')\n",
    "\n",
    "validation_goodRBC_dir = os.path.join(validation_dir,'goodRBC')\n",
    "validation_badRBC_dir = os.path.join(validation_dir,'badRBC')\n",
    "\n",
    "test_goodRBC_dir = os.path.join(test_dir,'goodRBC')\n",
    "test_badRBC_dir = os.path.join(test_dir,'badRBC')"
   ]
  },
  {
   "cell_type": "code",
   "execution_count": 3,
   "metadata": {},
   "outputs": [
    {
     "name": "stdout",
     "output_type": "stream",
     "text": [
      "Found 2956 images belonging to 2 classes.\n",
      "Found 993 images belonging to 2 classes.\n"
     ]
    }
   ],
   "source": [
    "# Preprocess the images. The idea here is to create the mini-bacth of images using an\n",
    "# image generator. Also the images are normalized in such way the maximum intensity is\n",
    "# equal to 1. \n",
    "# ----------\n",
    "\n",
    "test_datagen = ImageDataGenerator(rescale=1./255)\n",
    "\n",
    "train_datagen = ImageDataGenerator(\n",
    "        rescale = 1./255,\n",
    "        horizontal_flip = True,\n",
    "        vertical_flip = True)\n",
    "\n",
    "train_generator = train_datagen.flow_from_directory(\n",
    "        train_dir,\n",
    "        target_size=(85,85),\n",
    "        batch_size = 64,\n",
    "        class_mode = 'binary')\n",
    "\n",
    "validation_generator = test_datagen.flow_from_directory(\n",
    "        validation_dir,\n",
    "        target_size=(85,85),\n",
    "        batch_size = 64,\n",
    "        class_mode = 'binary')"
   ]
  },
  {
   "cell_type": "code",
   "execution_count": 4,
   "metadata": {},
   "outputs": [
    {
     "name": "stdout",
     "output_type": "stream",
     "text": [
      "WARNING:tensorflow:From C:\\ProgramData\\Anaconda3\\lib\\site-packages\\tensorflow\\python\\framework\\op_def_library.py:263: colocate_with (from tensorflow.python.framework.ops) is deprecated and will be removed in a future version.\n",
      "Instructions for updating:\n",
      "Colocations handled automatically by placer.\n",
      "WARNING:tensorflow:From C:\\ProgramData\\Anaconda3\\lib\\site-packages\\keras\\backend\\tensorflow_backend.py:3445: calling dropout (from tensorflow.python.ops.nn_ops) with keep_prob is deprecated and will be removed in a future version.\n",
      "Instructions for updating:\n",
      "Please use `rate` instead of `keep_prob`. Rate should be set to `rate = 1 - keep_prob`.\n",
      "_________________________________________________________________\n",
      "Layer (type)                 Output Shape              Param #   \n",
      "=================================================================\n",
      "conv2d_1 (Conv2D)            (None, 83, 83, 32)        896       \n",
      "_________________________________________________________________\n",
      "max_pooling2d_1 (MaxPooling2 (None, 41, 41, 32)        0         \n",
      "_________________________________________________________________\n",
      "conv2d_2 (Conv2D)            (None, 39, 39, 64)        18496     \n",
      "_________________________________________________________________\n",
      "max_pooling2d_2 (MaxPooling2 (None, 19, 19, 64)        0         \n",
      "_________________________________________________________________\n",
      "conv2d_3 (Conv2D)            (None, 17, 17, 128)       73856     \n",
      "_________________________________________________________________\n",
      "max_pooling2d_3 (MaxPooling2 (None, 8, 8, 128)         0         \n",
      "_________________________________________________________________\n",
      "conv2d_4 (Conv2D)            (None, 6, 6, 128)         147584    \n",
      "_________________________________________________________________\n",
      "flatten_1 (Flatten)          (None, 4608)              0         \n",
      "_________________________________________________________________\n",
      "dense_1 (Dense)              (None, 256)               1179904   \n",
      "_________________________________________________________________\n",
      "dropout_1 (Dropout)          (None, 256)               0         \n",
      "_________________________________________________________________\n",
      "dense_2 (Dense)              (None, 128)               32896     \n",
      "_________________________________________________________________\n",
      "dropout_2 (Dropout)          (None, 128)               0         \n",
      "_________________________________________________________________\n",
      "dense_3 (Dense)              (None, 1)                 129       \n",
      "=================================================================\n",
      "Total params: 1,453,761\n",
      "Trainable params: 1,453,761\n",
      "Non-trainable params: 0\n",
      "_________________________________________________________________\n"
     ]
    }
   ],
   "source": [
    "# Define the model and the compilation options. \n",
    "# ----------------------------------------------\n",
    "\n",
    "model = models.Sequential()\n",
    "model.add(layers.Conv2D(32, (3, 3), activation='relu', input_shape=(85,85,3)))\n",
    "model.add(layers.MaxPooling2D((2,2)))\n",
    "model.add(layers.Conv2D(64,(3,3), activation='relu'))\n",
    "model.add(layers.MaxPooling2D((2,2)))\n",
    "model.add(layers.Conv2D(128,(3,3), activation='relu'))\n",
    "model.add(layers.MaxPooling2D((2,2)))\n",
    "model.add(layers.Conv2D(128,(3,3), activation='relu'))\n",
    "model.add(layers.Flatten())\n",
    "model.add(layers.Dense(256, activation='relu'))\n",
    "model.add(layers.Dropout(0.5))\n",
    "model.add(layers.Dense(128, activation='relu'))\n",
    "model.add(layers.Dropout(0.5))\n",
    "model.add(layers.Dense(1, activation='sigmoid'))\n",
    "\n",
    "model.compile(optimizer = optimizers.RMSprop(lr=1e-4), \n",
    "            loss='binary_crossentropy',\n",
    "            metrics=['accuracy'])\n",
    "\n",
    "model.summary()"
   ]
  },
  {
   "cell_type": "code",
   "execution_count": 5,
   "metadata": {},
   "outputs": [
    {
     "name": "stdout",
     "output_type": "stream",
     "text": [
      "WARNING:tensorflow:From C:\\ProgramData\\Anaconda3\\lib\\site-packages\\tensorflow\\python\\ops\\math_ops.py:3066: to_int32 (from tensorflow.python.ops.math_ops) is deprecated and will be removed in a future version.\n",
      "Instructions for updating:\n",
      "Use tf.cast instead.\n",
      "Epoch 1/30\n",
      "100/100 [==============================] - 45s 447ms/step - loss: 0.6123 - acc: 0.6755 - val_loss: 0.5593 - val_acc: 0.6804\n",
      "Epoch 2/30\n",
      "100/100 [==============================] - 42s 419ms/step - loss: 0.5264 - acc: 0.6883 - val_loss: 0.4747 - val_acc: 0.6801\n",
      "Epoch 3/30\n",
      "100/100 [==============================] - 42s 423ms/step - loss: 0.4695 - acc: 0.7105 - val_loss: 0.4574 - val_acc: 0.7309\n",
      "Epoch 4/30\n",
      "100/100 [==============================] - 42s 419ms/step - loss: 0.4560 - acc: 0.7296 - val_loss: 0.4336 - val_acc: 0.7628\n",
      "Epoch 5/30\n",
      "100/100 [==============================] - 41s 408ms/step - loss: 0.4441 - acc: 0.7409 - val_loss: 0.4379 - val_acc: 0.7396\n",
      "Epoch 6/30\n",
      "100/100 [==============================] - 42s 424ms/step - loss: 0.4399 - acc: 0.7541 - val_loss: 0.4369 - val_acc: 0.7348\n",
      "Epoch 7/30\n",
      "100/100 [==============================] - 43s 426ms/step - loss: 0.4266 - acc: 0.7615 - val_loss: 0.4349 - val_acc: 0.7454\n",
      "Epoch 8/30\n",
      "100/100 [==============================] - 41s 414ms/step - loss: 0.4037 - acc: 0.7794 - val_loss: 0.4020 - val_acc: 0.7913\n",
      "Epoch 9/30\n",
      "100/100 [==============================] - 41s 412ms/step - loss: 0.3924 - acc: 0.8015 - val_loss: 0.3870 - val_acc: 0.7914\n",
      "Epoch 10/30\n",
      "100/100 [==============================] - 41s 413ms/step - loss: 0.3840 - acc: 0.8034 - val_loss: 0.3784 - val_acc: 0.7950\n",
      "Epoch 11/30\n",
      "100/100 [==============================] - 41s 410ms/step - loss: 0.3717 - acc: 0.8118 - val_loss: 0.3683 - val_acc: 0.8088\n",
      "Epoch 12/30\n",
      "100/100 [==============================] - 41s 410ms/step - loss: 0.3718 - acc: 0.8123 - val_loss: 0.3541 - val_acc: 0.8172\n",
      "Epoch 13/30\n",
      "100/100 [==============================] - 41s 411ms/step - loss: 0.3556 - acc: 0.8242 - val_loss: 0.3827 - val_acc: 0.7776\n",
      "Epoch 14/30\n",
      "100/100 [==============================] - 41s 407ms/step - loss: 0.3461 - acc: 0.8263 - val_loss: 0.3517 - val_acc: 0.8227\n",
      "Epoch 15/30\n",
      "100/100 [==============================] - 41s 414ms/step - loss: 0.3456 - acc: 0.8335 - val_loss: 0.3490 - val_acc: 0.8194\n",
      "Epoch 16/30\n",
      "100/100 [==============================] - 41s 414ms/step - loss: 0.3357 - acc: 0.8352 - val_loss: 0.3498 - val_acc: 0.8186\n",
      "Epoch 17/30\n",
      "100/100 [==============================] - 42s 419ms/step - loss: 0.3279 - acc: 0.8440 - val_loss: 0.3239 - val_acc: 0.8465\n",
      "Epoch 18/30\n",
      "100/100 [==============================] - 42s 423ms/step - loss: 0.3243 - acc: 0.8447 - val_loss: 0.3271 - val_acc: 0.8462\n",
      "Epoch 19/30\n",
      "100/100 [==============================] - 41s 414ms/step - loss: 0.3185 - acc: 0.8477 - val_loss: 0.3202 - val_acc: 0.8603\n",
      "Epoch 20/30\n",
      "100/100 [==============================] - 42s 416ms/step - loss: 0.3124 - acc: 0.8537 - val_loss: 0.3199 - val_acc: 0.8571\n",
      "Epoch 21/30\n",
      "100/100 [==============================] - 42s 415ms/step - loss: 0.3013 - acc: 0.8552 - val_loss: 0.3274 - val_acc: 0.8420\n",
      "Epoch 22/30\n",
      "100/100 [==============================] - 42s 416ms/step - loss: 0.2960 - acc: 0.8617 - val_loss: 0.3155 - val_acc: 0.8545\n",
      "Epoch 23/30\n",
      "100/100 [==============================] - 41s 413ms/step - loss: 0.3017 - acc: 0.8561 - val_loss: 0.3423 - val_acc: 0.8178\n",
      "Epoch 24/30\n",
      "100/100 [==============================] - 42s 417ms/step - loss: 0.2931 - acc: 0.8686 - val_loss: 0.3207 - val_acc: 0.8462\n",
      "Epoch 25/30\n",
      "100/100 [==============================] - 43s 429ms/step - loss: 0.2803 - acc: 0.8740 - val_loss: 0.3082 - val_acc: 0.8622\n",
      "Epoch 26/30\n",
      "100/100 [==============================] - 42s 419ms/step - loss: 0.2855 - acc: 0.8714 - val_loss: 0.2995 - val_acc: 0.8655\n",
      "Epoch 27/30\n",
      "100/100 [==============================] - 42s 416ms/step - loss: 0.2774 - acc: 0.8765 - val_loss: 0.3107 - val_acc: 0.8519\n",
      "Epoch 28/30\n",
      "100/100 [==============================] - 42s 417ms/step - loss: 0.2662 - acc: 0.8758 - val_loss: 0.3276 - val_acc: 0.8478\n",
      "Epoch 29/30\n",
      "100/100 [==============================] - 41s 414ms/step - loss: 0.2743 - acc: 0.8795 - val_loss: 0.2913 - val_acc: 0.8732\n",
      "Epoch 30/30\n",
      "100/100 [==============================] - 42s 418ms/step - loss: 0.2678 - acc: 0.8812 - val_loss: 0.2976 - val_acc: 0.8700\n"
     ]
    }
   ],
   "source": [
    "# Train the model\n",
    "# ---------------\n",
    "\n",
    "history = model.fit_generator(train_generator,\n",
    "                    steps_per_epoch = 100,\n",
    "                    epochs = 30,\n",
    "                    validation_data = validation_generator,\n",
    "                    validation_steps = 50)"
   ]
  },
  {
   "cell_type": "code",
   "execution_count": 6,
   "metadata": {},
   "outputs": [
    {
     "data": {
      "image/png": "[encoded data removed]",
      "text/plain": [
       "<Figure size 432x288 with 1 Axes>"
      ]
     },
     "metadata": {
      "needs_background": "light"
     },
     "output_type": "display_data"
    }
   ],
   "source": [
    "# Display the loss function during the training\n",
    "# ---------------------------------------------\n",
    "\n",
    "history_dict = history.history\n",
    "\n",
    "loss_values = history_dict['loss']\n",
    "val_loss_values = history_dict['val_loss']\n",
    "\n",
    "n = len(loss_values)\n",
    "epochs = range(1, n+1)\n",
    "\n",
    "plt.plot(epochs, loss_values, 'bo', label='Training loss')\n",
    "plt.plot(epochs, val_loss_values, 'b', label='Validation loss')\n",
    "plt.title('Training and validation loss')\n",
    "plt.xlabel('Epochs')\n",
    "plt.ylabel('Loss')\n",
    "plt.legend()\n",
    "\n",
    "plt.show()"
   ]
  },
  {
   "cell_type": "code",
   "execution_count": 7,
   "metadata": {},
   "outputs": [
    {
     "data": {
      "image/png": "[encoded data removed]",
      "text/plain": [
       "<Figure size 432x288 with 1 Axes>"
      ]
     },
     "metadata": {
      "needs_background": "light"
     },
     "output_type": "display_data"
    }
   ],
   "source": [
    "# The accuracy of the model is tested using the testing set of data.\n",
    "# ------------------------------------------------------------------\n",
    "\n",
    "acc_values = history_dict['acc']\n",
    "val_acc_values = history_dict['val_acc']\n",
    "\n",
    "n = len(acc_values)\n",
    "epochs = range(1, n+1)\n",
    "\n",
    "plt.plot(epochs, acc_values, 'bo', label='Training acccuracy')\n",
    "plt.plot(epochs, val_acc_values, 'b', label='Validation accuracy')\n",
    "plt.title('Training and validation accuracy')\n",
    "plt.xlabel('Epochs')\n",
    "plt.ylabel('accuracy')\n",
    "plt.legend()\n",
    "\n",
    "plt.show()\n"
   ]
  },
  {
   "cell_type": "code",
   "execution_count": 8,
   "metadata": {},
   "outputs": [
    {
     "name": "stdout",
     "output_type": "stream",
     "text": [
      "Found 986 images belonging to 2 classes.\n",
      "test_acc :  0.8529411728435308\n",
      "test_loss :  0.3103454047455084\n"
     ]
    }
   ],
   "source": [
    "# Finally test the accuracy of the model directly on the testing set of images\n",
    "# ----------------------------------------------------------------------------\n",
    "\n",
    "test_generator = test_datagen.flow_from_directory(\n",
    "        test_dir,\n",
    "        target_size=(85,85),\n",
    "        batch_size = 20,\n",
    "        class_mode = 'binary')\n",
    "\n",
    "test_loss, test_acc = model.evaluate_generator(test_generator, steps = 50)\n",
    "print('test_acc : ', test_acc)\n",
    "print('test_loss : ', test_loss)"
   ]
  },
  {
   "cell_type": "code",
   "execution_count": null,
   "metadata": {},
   "outputs": [],
   "source": []
  }
 ],
 "metadata": {
  "kernelspec": {
   "display_name": "Python 3",
   "language": "python",
   "name": "python3"
  },
  "language_info": {
   "codemirror_mode": {
    "name": "ipython",
    "version": 3
   },
   "file_extension": ".py",
   "mimetype": "text/x-python",
   "name": "python",
   "nbconvert_exporter": "python",
   "pygments_lexer": "ipython3",
   "version": "3.7.1"
  }
 },
 "nbformat": 4,
 "nbformat_minor": 2
}
